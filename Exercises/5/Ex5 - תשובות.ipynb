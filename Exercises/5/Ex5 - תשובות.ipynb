{
  "nbformat": 4,
  "nbformat_minor": 0,
  "metadata": {
    "colab": {
      "name": "Ex5.ipynb",
      "provenance": [],
      "collapsed_sections": []
    },
    "kernelspec": {
      "display_name": "Python 3",
      "name": "python3"
    },
    "language_info": {
      "name": "python"
    }
  },
  "cells": [
    {
      "cell_type": "code",
      "metadata": {
        "colab": {
          "base_uri": "https://localhost:8080/"
        },
        "id": "ERtYnfA3qVQK",
        "outputId": "a3e5be17-0b25-442c-a76a-99642de5cfa5"
      },
      "source": [
        "from google.colab import drive\n",
        "drive.mount('/content/drive')"
      ],
      "execution_count": null,
      "outputs": [
        {
          "output_type": "stream",
          "text": [
            "Mounted at /content/drive\n"
          ],
          "name": "stdout"
        }
      ]
    },
    {
      "cell_type": "markdown",
      "metadata": {
        "id": "qGfiAWSv79re"
      },
      "source": [
        "# Exercise 5 (due by the Hackathon)\n",
        "\n",
        "*   **Do not forget to answer both Part A and Part B.**\n",
        "*   **Please run on Google colab (colab.research.google.com).**\n",
        "\n",
        "# Part A\n",
        "In the first part of exercise 5, we will investigate the dynamics of a disordered protein using the string-of-beads model. In the second part, we will review the course material briefly using multiple-choice questions.\n",
        "## Preparations\n",
        "### I. Installing IMP\n",
        "The Integrative Modeling Platform [IMP](https://integrativemodeling.org/) is a software package for integrative (data-driven) modeling of molecular structure and dynamics. It is written in C++ and Python, and has a Pythn interface. To allow Google Colab to use IMP, we shall first install the IMP package:"
      ]
    },
    {
      "cell_type": "code",
      "metadata": {
        "collapsed": true,
        "id": "vIVHsAhCxSG8",
        "colab": {
          "base_uri": "https://localhost:8080/"
        },
        "outputId": "8098bf48-fcbb-4f5c-9dae-f994118b9412"
      },
      "source": [
        "!echo \"deb https://integrativemodeling.org/latest/download $(lsb_release -cs)/\" > /etc/apt/sources.list.d/salilab.list\n",
        "!apt-key adv --keyserver keyserver.ubuntu.com --recv-keys 22A3BF2B\n",
        "!apt update\n",
        "!apt install imp\n",
        "import sys\n",
        "sys.path.append('/usr/lib/python3.6/dist-packages')"
      ],
      "execution_count": null,
      "outputs": [
        {
          "output_type": "stream",
          "text": [
            "Executing: /tmp/apt-key-gpghome.3TWMamjI8N/gpg.1.sh --keyserver keyserver.ubuntu.com --recv-keys 22A3BF2B\n",
            "gpg: key EE70051722A3BF2B: public key \"Ben Webb <ben@salilab.org>\" imported\n",
            "gpg: Total number processed: 1\n",
            "gpg:               imported: 1\n",
            "Hit:1 https://cloud.r-project.org/bin/linux/ubuntu bionic-cran40/ InRelease\n",
            "Ign:2 https://developer.download.nvidia.com/compute/cuda/repos/ubuntu1804/x86_64  InRelease\n",
            "Ign:3 https://developer.download.nvidia.com/compute/machine-learning/repos/ubuntu1804/x86_64  InRelease\n",
            "Get:4 https://developer.download.nvidia.com/compute/cuda/repos/ubuntu1804/x86_64  Release [697 B]\n",
            "Hit:5 https://developer.download.nvidia.com/compute/machine-learning/repos/ubuntu1804/x86_64  Release\n",
            "Get:6 https://developer.download.nvidia.com/compute/cuda/repos/ubuntu1804/x86_64  Release.gpg [836 B]\n",
            "Get:7 https://integrativemodeling.org/latest/download bionic/ InRelease [1,781 B]\n",
            "Get:8 http://security.ubuntu.com/ubuntu bionic-security InRelease [88.7 kB]\n",
            "Hit:9 http://ppa.launchpad.net/c2d4u.team/c2d4u4.0+/ubuntu bionic InRelease\n",
            "Hit:10 http://archive.ubuntu.com/ubuntu bionic InRelease\n",
            "Get:11 http://archive.ubuntu.com/ubuntu bionic-updates InRelease [88.7 kB]\n",
            "Hit:13 http://ppa.launchpad.net/cran/libgit2/ubuntu bionic InRelease\n",
            "Ign:14 https://developer.download.nvidia.com/compute/cuda/repos/ubuntu1804/x86_64  Packages\n",
            "Get:14 https://developer.download.nvidia.com/compute/cuda/repos/ubuntu1804/x86_64  Packages [599 kB]\n",
            "Get:15 http://ppa.launchpad.net/deadsnakes/ppa/ubuntu bionic InRelease [15.9 kB]\n",
            "Get:16 https://integrativemodeling.org/latest/download bionic/ Packages [2,183 B]\n",
            "Get:17 http://archive.ubuntu.com/ubuntu bionic-backports InRelease [74.6 kB]\n",
            "Hit:18 http://ppa.launchpad.net/graphics-drivers/ppa/ubuntu bionic InRelease\n",
            "Get:19 http://security.ubuntu.com/ubuntu bionic-security/universe amd64 Packages [1,415 kB]\n",
            "Get:20 http://security.ubuntu.com/ubuntu bionic-security/main amd64 Packages [2,185 kB]\n",
            "Get:21 http://archive.ubuntu.com/ubuntu bionic-updates/universe amd64 Packages [2,185 kB]\n",
            "Get:22 http://ppa.launchpad.net/deadsnakes/ppa/ubuntu bionic/main amd64 Packages [40.9 kB]\n",
            "Get:23 http://archive.ubuntu.com/ubuntu bionic-updates/main amd64 Packages [2,619 kB]\n",
            "Fetched 9,316 kB in 3s (2,872 kB/s)\n",
            "Reading package lists... Done\n",
            "Building dependency tree       \n",
            "Reading state information... Done\n",
            "51 packages can be upgraded. Run 'apt list --upgradable' to see them.\n",
            "Reading package lists... Done\n",
            "Building dependency tree       \n",
            "Reading state information... Done\n",
            "The following additional packages will be installed:\n",
            "  libcgal13 libgsl23 libgslcblas0 python3-numpy python3-pkg-resources\n",
            "  python3-protobuf python3-six\n",
            "Suggested packages:\n",
            "  gsl-ref-psdoc | gsl-doc-pdf | gsl-doc-info | gsl-ref-html python-numpy-doc\n",
            "  python3-nose python3-numpy-dbg python3-setuptools\n",
            "The following NEW packages will be installed:\n",
            "  imp libcgal13 libgsl23 libgslcblas0 python3-numpy python3-pkg-resources\n",
            "  python3-protobuf python3-six\n",
            "0 upgraded, 8 newly installed, 0 to remove and 51 not upgraded.\n",
            "Need to get 49.4 MB of archives.\n",
            "After this operation, 444 MB of additional disk space will be used.\n",
            "Get:1 https://integrativemodeling.org/latest/download bionic/ imp 2.15.0-1 [45.9 MB]\n",
            "Get:2 http://archive.ubuntu.com/ubuntu bionic/universe amd64 libcgal13 amd64 4.11-2build1 [275 kB]\n",
            "Get:3 http://archive.ubuntu.com/ubuntu bionic/universe amd64 libgslcblas0 amd64 2.4+dfsg-6 [79.7 kB]\n",
            "Get:4 http://archive.ubuntu.com/ubuntu bionic/universe amd64 libgsl23 amd64 2.4+dfsg-6 [823 kB]\n",
            "Get:5 http://archive.ubuntu.com/ubuntu bionic/main amd64 python3-numpy amd64 1:1.13.3-2ubuntu1 [1,943 kB]\n",
            "Get:6 http://archive.ubuntu.com/ubuntu bionic/main amd64 python3-pkg-resources all 39.0.1-2 [98.8 kB]\n",
            "Get:7 http://archive.ubuntu.com/ubuntu bionic/main amd64 python3-six all 1.11.0-2 [11.4 kB]\n",
            "Get:8 http://archive.ubuntu.com/ubuntu bionic/main amd64 python3-protobuf amd64 3.0.0-9.1ubuntu1 [262 kB]\n",
            "Fetched 49.4 MB in 2s (29.8 MB/s)\n",
            "Selecting previously unselected package libcgal13:amd64.\n",
            "(Reading database ... 160772 files and directories currently installed.)\n",
            "Preparing to unpack .../0-libcgal13_4.11-2build1_amd64.deb ...\n",
            "Unpacking libcgal13:amd64 (4.11-2build1) ...\n",
            "Selecting previously unselected package libgslcblas0:amd64.\n",
            "Preparing to unpack .../1-libgslcblas0_2.4+dfsg-6_amd64.deb ...\n",
            "Unpacking libgslcblas0:amd64 (2.4+dfsg-6) ...\n",
            "Selecting previously unselected package libgsl23:amd64.\n",
            "Preparing to unpack .../2-libgsl23_2.4+dfsg-6_amd64.deb ...\n",
            "Unpacking libgsl23:amd64 (2.4+dfsg-6) ...\n",
            "Selecting previously unselected package python3-numpy.\n",
            "Preparing to unpack .../3-python3-numpy_1%3a1.13.3-2ubuntu1_amd64.deb ...\n",
            "Unpacking python3-numpy (1:1.13.3-2ubuntu1) ...\n",
            "Selecting previously unselected package python3-pkg-resources.\n",
            "Preparing to unpack .../4-python3-pkg-resources_39.0.1-2_all.deb ...\n",
            "Unpacking python3-pkg-resources (39.0.1-2) ...\n",
            "Selecting previously unselected package python3-six.\n",
            "Preparing to unpack .../5-python3-six_1.11.0-2_all.deb ...\n",
            "Unpacking python3-six (1.11.0-2) ...\n",
            "Selecting previously unselected package python3-protobuf.\n",
            "Preparing to unpack .../6-python3-protobuf_3.0.0-9.1ubuntu1_amd64.deb ...\n",
            "Unpacking python3-protobuf (3.0.0-9.1ubuntu1) ...\n",
            "Selecting previously unselected package imp.\n",
            "Preparing to unpack .../7-imp_2.15.0-1_amd64.deb ...\n",
            "Unpacking imp (2.15.0-1) ...\n",
            "Setting up python3-numpy (1:1.13.3-2ubuntu1) ...\n",
            "Setting up python3-six (1.11.0-2) ...\n",
            "Setting up python3-pkg-resources (39.0.1-2) ...\n",
            "Setting up python3-protobuf (3.0.0-9.1ubuntu1) ...\n",
            "Setting up libcgal13:amd64 (4.11-2build1) ...\n",
            "Setting up libgslcblas0:amd64 (2.4+dfsg-6) ...\n",
            "Setting up libgsl23:amd64 (2.4+dfsg-6) ...\n",
            "Setting up imp (2.15.0-1) ...\n",
            "Processing triggers for man-db (2.8.3-2ubuntu0.1) ...\n",
            "Processing triggers for libc-bin (2.27-3ubuntu1.2) ...\n",
            "/sbin/ldconfig.real: /usr/local/lib/python3.7/dist-packages/ideep4py/lib/libmkldnn.so.0 is not a symbolic link\n",
            "\n"
          ],
          "name": "stdout"
        }
      ]
    },
    {
      "cell_type": "markdown",
      "metadata": {
        "id": "4y0T9-C35Aek"
      },
      "source": [
        "Import some IMP packages:"
      ]
    },
    {
      "cell_type": "code",
      "metadata": {
        "id": "1lBRkfLxxTDN"
      },
      "source": [
        "import IMP.atom\n",
        "import IMP.algebra\n",
        "import IMP.rmf\n",
        "import IMP.core\n",
        "import RMF\n",
        "import IMP.container\n",
        "import IMP.display\n",
        "import IMP.npctransport"
      ],
      "execution_count": null,
      "outputs": []
    },
    {
      "cell_type": "markdown",
      "metadata": {
        "id": "3s5VN3oG9YJY"
      },
      "source": [
        "### II. Classes \n",
        "We prepared two classed, one for representing protein chains as strings-of-beads, and the other for generating such classes (a \"factory\" class)\n",
        "\n",
        "#### ProteinChain class\n",
        "We defined a class called `ProteinChain` for you. This class holds information about a single protein chain, represented as a string of beads. It's a simple class - some key methods include `beads()` - returning the bead of the string, and `restraint()` - returning the springs connecting the beads (you will see). \n",
        "\n",
        "We've kept it hidden (though you can feel free to look inside). Don't worry if you don't understand all of the code - just run this cell for now:"
      ]
    },
    {
      "cell_type": "code",
      "metadata": {
        "cellView": "form",
        "id": "3JFkohUZa9Uo"
      },
      "source": [
        "#@title\n",
        "from dataclasses import dataclass\n",
        "\n",
        "@dataclass # https://docs.python.org/3/library/dataclasses.html\n",
        "class ProteinChain:\n",
        "  '''\n",
        "  A string-of-beads representation of a protein chain\n",
        "  from specified beads. The beads are connected by a restraint\n",
        "  (think springs between consecutive beads)\n",
        "  '''\n",
        "  # the \"parent\" of all beads in the chain\n",
        "  root_p : IMP.Particle \n",
        "   # the list of bead particles comprising the chain\n",
        "  beads : list \n",
        "  # a spring restraint on consecutive beads\n",
        "  restraint : IMP.Restraint \n",
        "  # The protein sequence that this chain represents\n",
        "  sequence : str \n",
        "\n",
        "  def __post_init__(self): # this is called by automatically generated __init__\n",
        "      # make sure root is the parent of all beads\n",
        "      for bead in self.beads:\n",
        "        assert IMP.atom.Hierarchy(bead).get_parent() == self.root_as_h\n",
        "\n",
        "  @property\n",
        "  def model(self) -> IMP.Model : \n",
        "    return self.root_p.get_model()\n",
        "    \n",
        "  @property # Hierarchy is a decorator \n",
        "  def root_as_h(self) -> IMP.atom.Hierarchy : \n",
        "    return IMP.atom.Hierarchy(self.root_p)"
      ],
      "execution_count": null,
      "outputs": []
    },
    {
      "cell_type": "markdown",
      "metadata": {
        "id": "jeDNwiId_DmS"
      },
      "source": [
        "#### ProteinChainFactory class\n",
        "We also included a class for generating `ProteinChain` objects for various protein sequences. Details will be explained below, just run for now:"
      ]
    },
    {
      "cell_type": "code",
      "metadata": {
        "cellView": "form",
        "id": "h6XhFR5Px5nE"
      },
      "source": [
        "#@title\n",
        "FAKE_MASS = 1.0\n",
        "\n",
        "class ProteinChainFactory:\n",
        "    '''\n",
        "    A class for generating chains of beads\n",
        "    '''\n",
        "    def __init__(self,\n",
        "                 model : IMP.Model, \n",
        "                 default_radius_A : float = 10.0 , # bead radius in angstroms (10^-10 m)\n",
        "                 relative_rest_distance : float = 2.0, # distance between bead centers, relative to radius\n",
        "                 k_kcal_per_mol_per_A2 : float = 1.0, # force coefficient for spring connecting consecutive beads in kcal/mol/A^2 (force is k*distance\n",
        "                 nres_per_bead : int = 5):\n",
        "        '''\n",
        "        :param model \n",
        "        :param default_radius_A       Bead radius in angstroms\n",
        "        :param relative_rest_distance Distance between bead centers, relative to radius\n",
        "        :param k_kcal_per_mol_per_A2  Force coefficient for spring connecting consecutive beads \n",
        "                                      in kcal/mol/A^2 units\n",
        "        :param nres_per_bead          Number of protein residues represented by a single bead\n",
        "        '''\n",
        "        self._model = model\n",
        "        self._default_radius_A = default_radius_A\n",
        "        self._rest_distance_A = relative_rest_distance * default_radius_A \n",
        "        self._k_kcal_per_mol_per_A2 = k_kcal_per_mol_per_A2\n",
        "        self._nres_per_bead = nres_per_bead\n",
        "    @property\n",
        "    def model(self): return self._model\n",
        "    @property\n",
        "    def default_radius_A(self): return self._default_radius_A\n",
        "    @property\n",
        "    def rest_distance_A(self): return self._rest_distance_A\n",
        "    @property\n",
        "    def k_kcal_per_mol_per_A2(self): return self._k_kcal_per_mol_per_A2\n",
        "    @property\n",
        "    def nres_per_bead(self): return self._nres_per_bead\n",
        "    \n",
        "    def _create_bead(self, \n",
        "                     name : str):\n",
        "        p= IMP.Particle(self.model, name)\n",
        "        p_as_xyzr= IMP.core.XYZR.setup_particle(p) # A Decorator design pattern - adding functionality to an object at run time (~run-time inheritance)\n",
        "        p_as_xyzr.set_coordinates_are_optimized(True)\n",
        "        p_as_xyzr.set_radius(self.default_radius_A)\n",
        "        IMP.atom.Mass.setup_particle(p, FAKE_MASS)   # required by Hierarchy\n",
        "        IMP.atom.Diffusion.setup_particle(p)\n",
        "        IMP.atom.Hierarchy.setup_particle(p) # allow inclusion in IMP hierarchies\n",
        "        IMP.display.Colored.setup_particle(p,\n",
        "                                           IMP.display.get_display_color(0))\n",
        "        return p\n",
        "\n",
        "    def _create_restraint(self,\n",
        "                          beads #spring constant\n",
        "                       ):\n",
        "      hdps = IMP.core.HarmonicDistancePairScore(self.rest_distance_A, \n",
        "                                                self.k_kcal_per_mol_per_A2)\n",
        "      cpc = IMP.container.ConsecutivePairContainer(self.model, beads) # convention - use abbreviation for multiword class names\n",
        "      pr = IMP.container.PairsRestraint(hdps, cpc)\n",
        "      return pr, hdps\n",
        "\n",
        "\n",
        "    def create(self, \n",
        "               sequence : str, # protein sequence \n",
        "               name: str): # a name of your choice for the protein chain\n",
        "      p= IMP.Particle(self.model, name)\n",
        "      p_as_h = IMP.atom.Hierarchy.setup_particle(p) # allow inclusion in IMP hierarchies\n",
        "      # add beads:\n",
        "      n = len(sequence)\n",
        "      nbeads = max(1, round(n / self.nres_per_bead))\n",
        "      beads = []\n",
        "      for i in range(nbeads):\n",
        "        bead = self._create_bead(f\"{name}_{i}\") \n",
        "        p_as_h.add_child(bead) \n",
        "        beads.append(bead)\n",
        "      # restrain beads on a \"string\":\n",
        "      restraint, harmonic_distance_pair_score = self._create_restraint(beads)\n",
        "      return ProteinChain(root_p = p, \n",
        "                          beads = beads, \n",
        "                          restraint = restraint,\n",
        "                          sequence = sequence)"
      ],
      "execution_count": null,
      "outputs": []
    },
    {
      "cell_type": "markdown",
      "metadata": {
        "id": "Oa1vcCfjJioH"
      },
      "source": [
        "## Building a dynamic model - parts, interactions, dynamics\n",
        "OK, let's begin by building our first dynamic model! As we learned in class, a dynamic model stands on three pillars: parts, interactions, and dynamics. \n",
        "\n",
        "But first we need to construct an [IMP `model`](https://integrativemodeling.org/2.15.0/doc/ref/classIMP_1_1Model.html):"
      ]
    },
    {
      "cell_type": "code",
      "metadata": {
        "id": "kBTs8dNcJhlo"
      },
      "source": [
        "m = IMP.Model()"
      ],
      "execution_count": null,
      "outputs": []
    },
    {
      "cell_type": "markdown",
      "metadata": {
        "id": "CT_M60Z7Ka5H"
      },
      "source": [
        "### I. Add parts \n",
        "#### Generate strings of beads\n",
        "In IMP, model parts are called [Particles](https://integrativemodeling.org/2.15.0/doc/ref/classIMP_1_1Particle.html). The beads in our `ProteinChain` object are such particles - in this case, they represent physical objects with Cartesian coordinates. \n",
        "\n",
        "To generate two string of beads, we use the `ProteinChainFactory` class `create()` method:  "
      ]
    },
    {
      "cell_type": "code",
      "metadata": {
        "id": "G8wmQvD-eKwh"
      },
      "source": [
        "protein_chain_factory = ProteinChainFactory \\\n",
        "  (model = m, # the model in which the beads reside\n",
        "   default_radius_A = 10.0, # radius of a bead\n",
        "   k_kcal_per_mol_per_A2 = 5.0, # the force coefficient for the spring holding consecutive beads together (large number = stiff spring)\n",
        "   relative_rest_distance = 3.0, # the resting distance between bead centers, relative to the radius of single bead\n",
        "   nres_per_bead = 20) # number of residues per bead in the string-of-beads\n",
        "seq = \"MSDQSQEPTMEEILASIRRIISEDDAPAEPAAEAAPPPPPEPEPEPVSFDDEVLELTDPI\" \\\n",
        "      \"APEPELPPLETVGDIDVYSPPEPESEPAYTPPPAAPVFDRDEVAEQLVGVSAASAAASAF\" \\\n",
        "      \"GSLSSALLMPKDGRTLEDVVRELLRPLLKEWLDQNLPRIVETKVEEEVQRISRGRGA\"\n",
        "label = \"popZ\"\n",
        "nchains = 2\n",
        "chains = []\n",
        "for i in range(nchains):\n",
        "  chain = protein_chain_factory.create(seq, f\"{label}_{i}\")\n",
        "  chains.append(chain)"
      ],
      "execution_count": null,
      "outputs": []
    },
    {
      "cell_type": "markdown",
      "metadata": {
        "id": "k4fYMfwogr-4"
      },
      "source": [
        "### Keep chains in a hierarchical data structure\n",
        "\n",
        "Next, we create a hierarchical data struture, in which the two chain descend from a common root particle called `p_root`. Note that ProteinChainFactory made sure that the beads of each chain also descend from a common root `protein_chain.root_as_h`.\n",
        "\n",
        "\n"
      ]
    },
    {
      "cell_type": "code",
      "metadata": {
        "id": "V3mwlevDgtNO"
      },
      "source": [
        "p_root= IMP.Particle(m, \"root\")\n",
        "h_root = IMP.atom.Hierarchy.setup_particle(p_root) # decorator\n",
        "for chain in chains:\n",
        "  h_root.add_child(chain.root_as_h)"
      ],
      "execution_count": null,
      "outputs": []
    },
    {
      "cell_type": "markdown",
      "metadata": {
        "id": "tPy8-luddizT"
      },
      "source": [
        "**Explanation**: IMP Particles don't have to represent actual physical particles. To allow *particle* `p_root` to have children, we [decorate](https://https://en.wikipedia.org/wiki/Decorator_pattern) it using the [`IMP.atom.Hierarchy` class](https://integrativemodeling.org/2.15.0/doc/ref/classIMP_1_1atom_1_1Hierarchy.html). The [decorator design pattern](https://https://en.wikipedia.org/wiki/Decorator_pattern) adds new functions to existing classes at runtime instead of during compile time. Think about `h_root` as particle `p_root` cast as class Hierarchy."
      ]
    },
    {
      "cell_type": "markdown",
      "metadata": {
        "id": "ZEOOjkQ3UqoE"
      },
      "source": [
        "### II. Add interactions\n",
        "Interactions in IMP are created using the concept of a \"restraint\" acting on a group of particles (a single particle, a pair of particles, etc.). All restraints derive from the class [`Restraint`](https://integrativemodeling.org/2.15.0/doc/ref/classIMP_1_1Restraint.html). \n",
        " \n",
        "We first define an [`ExcludedVolumeRestraint`](https://integrativemodeling.org/2.15.0/doc/ref/classIMP_1_1core_1_1ExcludedVolumeRestraint.html) object - telling IMP that different beads should not overlap with each other, at least not too much:"
      ]
    },
    {
      "cell_type": "code",
      "metadata": {
        "id": "Q526N5eZddsq"
      },
      "source": [
        "def get_all_beads(chains):\n",
        "  beads_set = set().union(*[chain.beads for chain in chains])\n",
        "  return list(beads_set)\n",
        "\n",
        "# Add excluded volume restraints among all (close pairs of) particles:\n",
        "evr = IMP.core.ExcludedVolumeRestraint(get_all_beads(chains), # particles to be restraints\n",
        "                                      1.0, # force constant\n",
        "                                      10.0, # slack parameter affecting speed only\n",
        "                                      \"Excluded-Volume\" # a string identifier\n",
        "                                       ) "
      ],
      "execution_count": null,
      "outputs": []
    },
    {
      "cell_type": "markdown",
      "metadata": {
        "id": "_t0kBQybkJcI"
      },
      "source": [
        "The springs between the beads of each protein chain were already defined by ProteinChainFactory, so now we create `rsf`, a scoring function (a.k.a. energy function) made of our restraints."
      ]
    },
    {
      "cell_type": "code",
      "metadata": {
        "id": "eKIdOzyMkI6O"
      },
      "source": [
        "restraints = [chain.restraint for chain in chains] + [evr]\n",
        "rsf = IMP.core.RestraintsScoringFunction(restraints, \n",
        "                                         \"Scoring function\") # Energy function"
      ],
      "execution_count": null,
      "outputs": []
    },
    {
      "cell_type": "markdown",
      "metadata": {
        "id": "eG6vgfsYkjdN"
      },
      "source": [
        "### III. Add dynamics\n",
        "Finally, we create a [`BrownianDynamics`](https://integrativemodeling.org/2.15.0/doc/ref/classIMP_1_1atom_1_1BrownianDynamics.html) object, which enables us to simulate our interacting parts:"
      ]
    },
    {
      "cell_type": "code",
      "metadata": {
        "id": "T08frqY8kj0O"
      },
      "source": [
        "# BD\n",
        "bd = IMP.atom.BrownianDynamics(m)\n",
        "bd.set_scoring_function(rsf) # tell BD about our scoring (energy) function\n",
        "bd_step_size_fs = 1000.0 # simulation time step in femotoseconds (10^-15 sec)\n",
        "bd.set_maximum_time_step(bd_step_size_fs) \n",
        "T = 300 # temperature in Kalvin\n",
        "bd.set_temperature(T)"
      ],
      "execution_count": null,
      "outputs": []
    },
    {
      "cell_type": "markdown",
      "metadata": {
        "id": "Oa38k-g6lOZU"
      },
      "source": [
        "#### Making a movie (trajectory) file\n",
        "We conclude by telling our simulation to output a trajectory (movie) file every 10000 frames. The movie is saved using the [Rich Molecular File format](https://integrativemodeling.org/rmf/format.html), which can be viewed using e.g. the [Chimera software](https://www.cgl.ucsf.edu/chimera/download.html) or [ChimeraX](https://cxtoolshed.rbvi.ucsf.edu/apps/chimeraxrmf).\n",
        " \n",
        "**Note:** if you get a \"UsageError: \"Opening a file that is still being written is asking for trouble.\" error for any reson, just change the filename variable"
      ]
    },
    {
      "cell_type": "code",
      "metadata": {
        "id": "gui8_TM9lOik"
      },
      "source": [
        "rmf_filename = \"my_trajectory.rmf\"\n",
        "rmf = RMF.create_rmf_file(rmf_filename)\n",
        "rmf.set_description(\"Brownian dynamics trajectory with {}fs timestep.\\n\"\\\n",
        "                    .format(bd_step_size_fs))\n",
        "IMP.rmf.add_hierarchy(rmf, h_root) # Telling the movie that it should save all descendents of h_root\n",
        "IMP.rmf.add_restraints(rmf, restraints) # the restraints are also saved and can be viewed in Chimera\n",
        "sos = IMP.rmf.SaveOptimizerState(m, rmf) # an optimizer state is invoked every n frames of simulation by the BD simulation\n",
        "sos.set_simulator(bd)\n",
        "frames_interval = 10000\n",
        "sos.set_period(frames_interval) \n",
        "bd.add_optimizer_state(sos)\n",
        "sos.update_always(\"initial conformation\") # save the initial conformation to the RMF file\n"
      ],
      "execution_count": null,
      "outputs": []
    },
    {
      "cell_type": "markdown",
      "metadata": {
        "id": "W2OM09DinTDQ"
      },
      "source": [
        "## Simulating dynamics\n",
        "Without further ado, let's simulate our system using `bd.optimize(n)` where `n` is the number of time steps to simulate. \n",
        "\n",
        "We shall keep a few statistics every `n_inner_cycle` frames - the simulation time, the energy of the system (our scoring function), and the distance between the first and last bead of each chain.\n"
      ]
    },
    {
      "cell_type": "code",
      "metadata": {
        "id": "yufmaKdXjraY",
        "colab": {
          "base_uri": "https://localhost:8080/"
        },
        "outputId": "a8d7a6a3-ee00-40ab-ad53-9fa7091b04d2"
      },
      "source": [
        "T_ns = [] # time in nanoseconds\n",
        "E = [] # energy\n",
        "D = [ [] for chain in chains ]\n",
        "n_outer = 50000 # outer loop number of iterations\n",
        "n_inner = 250 # optimization per iteration\n",
        "for i in range(n_outer):\n",
        "  time_fs = bd.get_current_time()\n",
        "  time_ns = time_fs * 1e-6 # a nanosecond is a million femtoseconds\n",
        "  if (i % (n_outer//10) == 0):\n",
        "    print(f\"Simulated for {time_ns:.1f} nanoseconds so far\")\n",
        "  bd.optimize(n_inner)\n",
        "  T_ns.append(time_ns) # keep time\n",
        "  E.append(bd.get_last_score()) # keep energy\n",
        "  for i, chain in enumerate(chains): # keep distances for each chain\n",
        "    distance = IMP.core.get_distance(IMP.core.XYZ(chain.beads[0]), \n",
        "                                     IMP.core.XYZ(chain.beads[-1]))\n",
        "    D[i].append(distance)\n",
        "print(f\"FINISHED. Simulated for {time_ns:.1f} nanoseconds in total.\")\n",
        "rmf.flush() # make sure RMF file is properly saved"
      ],
      "execution_count": null,
      "outputs": [
        {
          "output_type": "stream",
          "text": [
            "Simulated for 0.0 nanoseconds so far\n",
            "Simulated for 1250.0 nanoseconds so far\n",
            "Simulated for 2500.0 nanoseconds so far\n",
            "Simulated for 3750.0 nanoseconds so far\n",
            "Simulated for 5000.0 nanoseconds so far\n",
            "Simulated for 6250.0 nanoseconds so far\n",
            "Simulated for 7500.0 nanoseconds so far\n",
            "Simulated for 8750.0 nanoseconds so far\n",
            "Simulated for 10000.0 nanoseconds so far\n",
            "Simulated for 11250.0 nanoseconds so far\n",
            "FINISHED. Simulated for 12499.8 nanoseconds in total.\n"
          ],
          "name": "stdout"
        }
      ]
    },
    {
      "cell_type": "markdown",
      "metadata": {
        "id": "ZJn0_CgY-ov1"
      },
      "source": [
        "Let's convert to numpy array - it will be easier to manipulate that way:"
      ]
    },
    {
      "cell_type": "code",
      "metadata": {
        "id": "uuXKKQgs-mTu"
      },
      "source": [
        "import numpy as np\n",
        "T_ns = np.array(T_ns) # this will be convenient later\n",
        "E = np.array(E) # likewise\n",
        "D = np.array(D)"
      ],
      "execution_count": null,
      "outputs": []
    },
    {
      "cell_type": "markdown",
      "metadata": {
        "id": "G3P2mPqDpzBg"
      },
      "source": [
        "**Explanations:**\n",
        "\n",
        "To compute the energy of the system we use the `bd.get_last_score()` method.\n",
        "\n",
        "To compute the distance between the centers of two bead particles, we use the [`IMP.core.get_distance()`](https://integrativemodeling.org/2.15.0/doc/ref/namespaceIMP_1_1core.html#af2049fdca8aae38e86549cfdeff1d1fc) function. This functions acts on [`IMP.core.XYZ`](https://integrativemodeling.org/2.15.0/doc/ref/classIMP_1_1core_1_1XYZ.html) objects. \n",
        "\n",
        "*Advanced note:* bead particles can be converted (cast) to `IMP.core.XYZ` objects because they were decorated as such by our `ProteinChainFactory` class."
      ]
    },
    {
      "cell_type": "markdown",
      "metadata": {
        "id": "ia6b3rAcqW6s"
      },
      "source": [
        "## Visualizing simulation results\n",
        "Let's see what happened. Since we kept statistics, we can now plot the energy and the distance between beads as a function of time. Optionally, you can frist inspect the resulting simulation as a movie in Chimera.\n",
        "\n",
        "####**Bonus Question A0 (+2):**\n",
        "Download and install the [Chimera software](https://www.cgl.ucsf.edu/chimera/download.html), download the output RMF file (press on the files icon in the left tab and look for the output file, you can download it from there). Open it in Chimera and play the movie. Explore the hierarchy of particles on the right panel. You may select differtent chains or beads, color them in different colors, etc. \n",
        "\n",
        "**Please share your observations in a few sentences (in Hebrew if you like).**\n",
        "\n",
        "*Note:* Alternatively, you can use ChimeraX. It requires installation of the RMF plugin (Tools - more tools - RMF - Install), and a few simple command lines - if you're interested, you can try the following sequence of commands and take it from there:\n",
        "1.   `open \"<PATH>/<filename>.rmf\"`\n",
        "2.   `rmf readtraj #1.1` (you may need to replace 1.1 with the appropraiate ID on the Models panel)\n",
        "3.   `coordset slider #1.1` (this will open a slider for playing the movie, you may need to replace 1.1 with the appropriate ID as before)\n",
        "  \n",
        "\n",
        "####**Bonus Answer A0:**\n",
        "נראה שהחלקיקים בצד ימין יותר מנסים להשתלב זה עם זה ויחד עם הקבוצה השמאלית מאשר הקבוצה השמאלית\n",
        "הם נראים בעלי אנרגיה גבוהה יותר שכן הם נעים יותר ובקצב מהיר יותר\n",
        "####**Question A1:**\n",
        "Please add appropriate code, such that the simulation energy is plotted as a function of time using [`matplotlib.pyplot.plot()`](https://matplotlib.org/stable/api/_as_gen/matplotlib.pyplot.plot.html) function. "
      ]
    },
    {
      "cell_type": "code",
      "metadata": {
        "id": "NwwEpsW96ca0",
        "colab": {
          "base_uri": "https://localhost:8080/",
          "height": 283
        },
        "outputId": "829d5244-abe0-4cc2-8ea0-6f0a1a3c76c8"
      },
      "source": [
        "import matplotlib.pyplot as plt\n",
        "import numpy as np\n",
        "### ADD CODE HERE #\n",
        "plt.plot(T_ns, E) \n",
        "### END OF ADD CODE HERE #\n",
        "plt.xlabel(r'time [$ns$]')\n",
        "plt.ylabel(r'E [$kcal/mol/A^2$]')\n",
        "plt.show()\n",
        "\n"
      ],
      "execution_count": null,
      "outputs": [
        {
          "output_type": "display_data",
          "data": {
            "image/png": "[encoded data removed]",
            "text/plain": [
              "<Figure size 432x288 with 1 Axes>"
            ]
          },
          "metadata": {
            "tags": [],
            "needs_background": "light"
          }
        }
      ]
    },
    {
      "cell_type": "markdown",
      "metadata": {
        "id": "QVzWtsN_01Vn"
      },
      "source": [
        "####**Question A2:**\n",
        "**You may answer in hebrew (here and in all questions below).** \n",
        "\n",
        "What happened to the simulation energy at the early stages of the simulations? Why?\n",
        "\n",
        "####**Answer A2:**\n",
        "בתחילת הסימולציה פונקצית האנרגיה שאפה לערכים מאוד גבוהים ביחס להמשך הסימולציה שאז היא התחילה להתייצב\n",
        "הסבר אפשרי להבחנה זו היא שבהתחלה המערכת לא נמצאת בשיווי משקל ובהמשך מאזן הכוחות במערכת מתאזן ומדד האנרגיה מתייצב כפי שניתן לראות\n"
      ]
    },
    {
      "cell_type": "markdown",
      "metadata": {
        "id": "Ao8dpypC2aN5"
      },
      "source": [
        "###**Question A3:**\n",
        " \n",
        "Let's plot the simulation energy only after the initial equilibration time. Change the value of `T_ns_threshold` until the plot only shows a simulation energy that does not trend down"
      ]
    },
    {
      "cell_type": "code",
      "metadata": {
        "id": "kKh3SCzi2ffT",
        "colab": {
          "base_uri": "https://localhost:8080/",
          "height": 284
        },
        "outputId": "074519a4-11f5-435d-9b1e-34a7e8544d31"
      },
      "source": [
        "#A3\n",
        "import numpy as np\n",
        "T_ns_threshold = 6250.0  # CHANGE THIS LINE ONLY, inital value was 0.1 \n",
        "no_start = (T_ns > T_ns_threshold)\n",
        "plt.plot(T_ns[no_start], E[no_start], '-') \n",
        "plt.xlabel(r'time [$ns$]')\n",
        "plt.ylabel(r'E [$kcal/mol/A^2$]')\n",
        "plt.show()"
      ],
      "execution_count": null,
      "outputs": [
        {
          "output_type": "display_data",
          "data": {
            "image/png": "[encoded data removed]",
            "text/plain": [
              "<Figure size 432x288 with 1 Axes>"
            ]
          },
          "metadata": {
            "tags": [],
            "needs_background": "light"
          }
        }
      ]
    },
    {
      "cell_type": "markdown",
      "metadata": {
        "id": "nNK1J2W9s68c"
      },
      "source": [
        "####**Question A4:** \n",
        "**You may answer in Hebrew here and in all questions below.** \n",
        "\n",
        "Print the mean and standard deviation of the simulation energy by running the next cell of code. What would happen to the standard deviation of the energy if we decreased the simulation temperature? Would it go up or down? Please explain why so based on the equation of Brownian dynamics that we learned in class. \n",
        "\n",
        "**Note -** it appeared in the last lecture on dynamics, for example, on slides 8-9. \n",
        "\n",
        "Optionally, feel free to create a copy of this document and test what happens when you actually change the simulation temperature by changing the code above `bd.set_temperature(T)`."
      ]
    },
    {
      "cell_type": "markdown",
      "metadata": {
        "id": "n0nlqIKQuiq6"
      },
      "source": [
        "####**Answer A4:**\n",
        " The standard deviation of the energy will go up. Let's explain why: \n",
        "First let's remember that the higher the temperature of a substance, the greater the kinetic energy of the particles.\n",
        "Taking that into consideration and by observing the equation of Brownian dynamics we can canclude that the higher the temperature, the faster the diffusion will be, because the stronger the molecule movement and thus the “mixing”.\n",
        "\n",
        "To check our answer we changed T to 800 and rerun the code - \n",
        "We got these results:\n",
        "The mean energy is 14.05\n",
        "The std-deviation of the energy is 5.27.\n",
        "which is indeed higher from the result we got from T = 300 :\n",
        "The mean energy is 6.09\n",
        "The std-deviation of the energy is 2.54.\n"
      ]
    },
    {
      "cell_type": "code",
      "metadata": {
        "id": "9WjDNMYEs51U",
        "colab": {
          "base_uri": "https://localhost:8080/"
        },
        "outputId": "946d877a-160a-4ae4-d5a5-411c2d6c7d0e"
      },
      "source": [
        "print(f\"The mean energy is {np.mean(E[no_start]):.2f}\")\n",
        "print(f\"The std-deviation of the energy is {np.std(E[no_start]):.2f}\")"
      ],
      "execution_count": null,
      "outputs": [
        {
          "output_type": "stream",
          "text": [
            "The mean energy is 6.09\n",
            "The std-deviation of the energy is 2.54\n"
          ],
          "name": "stdout"
        }
      ]
    },
    {
      "cell_type": "markdown",
      "metadata": {
        "id": "SGoOEO7Auwb_"
      },
      "source": [
        "###**Question A5:**\n",
        "Inspect the equation of BD as in the previous question. \n",
        "\n",
        "*Fact:* The diffusion coefficent *D* in the equation increases proportionally to the temperature *T*. In other words, you may substitute *D* for *cT*. \n",
        "\n",
        "If *T* tends (שואף) to zero, what would be the form of the BD equation? Is there any term that disappears?\n",
        "\n",
        "*Hint:* you don't have to, but if you change the `bd.set_temperature()` line above, you can check it first hand. Don't forget to change it back again (or work on a copy of this notebook).\n",
        "\n",
        "###**Answer A5:**\n",
        "לפי הנוסחה כאשר הטמפ' שואפת ל0 הצורה של המשוואה הופכת למשוואה הדומה מאוד לזו של האלגוריתם\n",
        "Newton’s Method for Minimization - Higher Dimensions\n",
        "(שקופית 22 במצגת Week 4a - Optimization cont)\n",
        "כלומר המחובר האחרון במשוואה ייעלם ראשון כי הוא ישאף מהר יותר לאפס"
      ]
    },
    {
      "cell_type": "markdown",
      "metadata": {
        "id": "CCzFxlg2xC-M"
      },
      "source": [
        "###**Question A6:**\n",
        "When *T* tends to zero, what algorithm do we get? \n",
        "\n",
        "*Hint:* we learned it early on in the course (circa lectures 4, 5, on optimization).\n",
        "\n",
        "###**Answer A6:**\n",
        "האלגרויתם המתקבל הוא : \n",
        "Newton’s Method for Minimization - Higher Dimensions\n",
        "(שקופית 22 במצגת Week 4a - Optimization cont)"
      ]
    },
    {
      "cell_type": "markdown",
      "metadata": {
        "id": "RvlY_PvFxv14"
      },
      "source": [
        "###**Question A7:**\n",
        "The following code plots the end-to-end distance of the protein chains. The chains movement chains movement is somewhat remeniscent of changes in the stock market. How come? What universal phenomenon that we learned in class may explain this qualitative similarity?\n",
        " \n",
        "###**Answer A7:**\n",
        "התופעה היא שינויים קטנים בין מצבים\n",
        "תופעה המזכירה MCMC"
      ]
    },
    {
      "cell_type": "code",
      "metadata": {
        "id": "RvK5mnY-syc4",
        "colab": {
          "base_uri": "https://localhost:8080/",
          "height": 283
        },
        "outputId": "47978ba8-2c51-4c7a-de17-00dbae480cae"
      },
      "source": [
        "from matplotlib import cm\n",
        "colors =  cm.get_cmap(\"tab10\")\n",
        "for i,Di in enumerate(D):\n",
        "  plt.plot(T_ns[no_start], Di[no_start],\n",
        "           color=colors(i % 10), label=f'D[{i}]') \n",
        "plt.xlabel(r'time [$ns$]')\n",
        "plt.ylabel(r'end-to-end distance [$A$]')\n",
        "plt.legend()\n",
        "plt.show()"
      ],
      "execution_count": null,
      "outputs": [
        {
          "output_type": "display_data",
          "data": {
            "image/png": "[encoded data removed]",
            "text/plain": [
              "<Figure size 432x288 with 1 Axes>"
            ]
          },
          "metadata": {
            "tags": [],
            "needs_background": "light"
          }
        }
      ]
    },
    {
      "cell_type": "markdown",
      "metadata": {
        "id": "dVFnSv5xzZil"
      },
      "source": [
        "###**Bonus question A8 (+2):**\n",
        "(Bonus +2 points) Let us plot the distribution of the system's energy over time (in units of kcal/mol/A^2 - nevermind) by running the following cell. We know that Brownian dynamics simulations converge to the Boltzmann distribution, that is, their probability to be in a certain configuration decreases exponentially as the energy of that configuration increases. \n",
        "\n",
        "How come the following histogram does not decay exponentially with increasing energy? \n",
        "\n",
        "*Hint*: Is there an equal number of configurations for each energy level?\n",
        "\n",
        "###**Bonus answer A8 (+2):**\n",
        "<תשובה>\n"
      ]
    },
    {
      "cell_type": "code",
      "metadata": {
        "id": "xoy9ev3n7WxJ",
        "colab": {
          "base_uri": "https://localhost:8080/",
          "height": 285
        },
        "outputId": "e3a5764e-8e3b-48c0-a417-d0895e72d8ea"
      },
      "source": [
        "import seaborn as sns\n",
        "ax = sns.histplot(E[no_start])\n",
        "ax.set_xlabel(r'energy [$kcal^{-1}mol^{-1}A^2$]')\n",
        "plt.show()\n"
      ],
      "execution_count": null,
      "outputs": [
        {
          "output_type": "display_data",
          "data": {
            "image/png": "[encoded data removed]",
            "text/plain": [
              "<Figure size 432x288 with 1 Axes>"
            ]
          },
          "metadata": {
            "tags": [],
            "needs_background": "light"
          }
        }
      ]
    },
    {
      "cell_type": "markdown",
      "metadata": {
        "id": "xGvWvZ57JK6V"
      },
      "source": [
        "###**Question A9:**\n",
        "\n",
        "Let's plot the distribution of end-to-end-distances over time in the two chains combined. \n",
        "\n",
        "  a. According to what we learned in class, why is it (approximately) a Gaussian?\n",
        "\n",
        "  b. Why is it not precisely a Gaussian? \n",
        "  \n",
        "  *Hint for b:* Are the springs the only interactions between beads? Or did we add another type of interaction except the springs? \n",
        "\n",
        "###**Answer A9:**\n",
        "\n",
        "a) בגלל שבחרנו בין היתר לייצג את הדינימיקה בין החליקים באמצעות קפיץ\n",
        "b)\n"
      ]
    },
    {
      "cell_type": "code",
      "metadata": {
        "id": "cwsz9y1f_lEc",
        "colab": {
          "base_uri": "https://localhost:8080/",
          "height": 279
        },
        "outputId": "0091b2ba-e108-4091-d5ec-68747a3d094d"
      },
      "source": [
        "ax = sns.histplot(np.concatenate(D[0:]))\n",
        "ax.set_xlabel(r'N''-C'' distance [A]')\n",
        "plt.show()"
      ],
      "execution_count": null,
      "outputs": [
        {
          "output_type": "display_data",
          "data": {
            "image/png": "[encoded data removed]",
            "text/plain": [
              "<Figure size 432x288 with 1 Axes>"
            ]
          },
          "metadata": {
            "tags": [],
            "needs_background": "light"
          }
        }
      ]
    },
    {
      "cell_type": "markdown",
      "metadata": {
        "id": "_QV9xBKDPlep"
      },
      "source": [
        "####**Enrichment:**\n",
        "Let's inspect the code of classes `ProteinChain` and `ProteinChainFactory` way above by pressing \"show code\". This brief explanation is provided for context, you can move on with the exercise if you like.\n",
        "\n",
        "The method `create_bead()` creates a single bead, and decorates it with  [`IMP.core.XYZR`](https://integrativemodeling.org/2.15.0/doc/ref/classIMP_1_1core_1_1XYZR.html), [`IMP.atom.Mass`](https://integrativemodeling.org/2.15.0/doc/ref/classIMP_1_1atom_1_1Mass.html), [`IMP.atom.Diffusion`](https://integrativemodeling.org/2.15.0/doc/ref/classIMP_1_1atom_1_1Diffusion.html), and [`IMP.display.Colored`](https://integrativemodeling.org/2.15.0/doc/ref/classIMP_1_1display_1_1Colored.html).\n",
        "    \n",
        "    def _create_bead(self, \n",
        "                     name : str):\n",
        "        p= IMP.Particle(self.model, name)\n",
        "        p_as_xyzr= IMP.core.XYZR.setup_particle(p) # A Decorator design pattern - adding functionality to an object at run time (~run-time inheritance)\n",
        "        p_as_xyzr.set_coordinates_are_optimized(True)\n",
        "        p_as_xyzr.set_radius(self.default_radius_A)\n",
        "        IMP.atom.Mass.setup_particle(p, FAKE_MASS)   # required by Hierarchy\n",
        "        IMP.atom.Diffusion.setup_particle(p)\n",
        "        IMP.atom.Hierarchy.setup_particle(p) # allow inclusion in IMP hierarchies\n",
        "        IMP.display.Colored.setup_particle(p,\n",
        "                                           IMP.display.get_display_color(0))\n",
        "        return p\n",
        "\n",
        "\n",
        "The method `_create_restraint` adds a spring to the simulation between each pair of consecutive beads. It first creates a function that increases quadratically from a certain rest distance - using the class [`IMP.core.HarmonicDistancePairScore`](https://integrativemodeling.org/2.15.0/doc/ref/classIMP_1_1core_1_1HarmonicDistancePairScore.html). The [`IMP.container.PairsRestraint`](https://integrativemodeling.org/2.15.0/doc/ref/classIMP_1_1container_1_1PairsRestraint.html) object `pr` is a restraints that applies this function (`hdps`) over each pair of consecutive beads (`cpc`).\n",
        "\n",
        "    def _create_restraint(self,\n",
        "                          beads #spring constant\n",
        "                       ):\n",
        "      hdps = IMP.core.HarmonicDistancePairScore(self.rest_distance_A, \n",
        "                                                self.k_kcal_per_mol_per_A2)\n",
        "      cpc = IMP.container.ConsecutivePairContainer(self.model, beads) # convention - use abbreviation for multiword class names\n",
        "      pr = IMP.container.PairsRestraint(hdps, cpc)\n",
        "      return pr, hdps\n",
        "\n",
        "\n"
      ]
    },
    {
      "cell_type": "markdown",
      "metadata": {
        "id": "7ajcIsH-C4Mi"
      },
      "source": [
        "# Probabilistic modeling (enrichment)\n",
        "\n",
        "There are no questions to answer in this section, so you can skip right on to **Part II** if you like. If you're still here, you will find some simple code for fitting the probability distribution of the energy and chain end-to-end distance distributions above, using the probabilistic modeling package [PyMC3](https://docs.pymc.io/).\n",
        "\n",
        "First install some required packages:"
      ]
    },
    {
      "cell_type": "code",
      "metadata": {
        "id": "piHpvQvX-lXV"
      },
      "source": [
        "!pip install theano-pymc\n",
        "!pip install pymc3==3.11.1"
      ],
      "execution_count": null,
      "outputs": []
    },
    {
      "cell_type": "markdown",
      "metadata": {
        "id": "M-TTlo_XXx1f"
      },
      "source": [
        "Define a probabilistic model made of a bunch of random variables (\"RVs\"):"
      ]
    },
    {
      "cell_type": "code",
      "metadata": {
        "id": "c4IHlpZc-nTU"
      },
      "source": [
        "import pymc3 as pm\n",
        "import numpy as np\n",
        "pm_model = pm.Model()\n",
        "with pm_model:\n",
        "  rv_E_mu = pm.Normal('E_mu', mu = 20, sigma = 20)\n",
        "  rv_E_sigma = pm.Normal('E_sigma', mu = 20, sigma = 20)\n",
        "  rv_E = pm.Normal('E', mu = rv_E_mu, sigma = rv_E_sigma, \n",
        "                   observed = E)\n",
        "  rv_D_mu = pm.Normal('D_mu', mu = 100, sigma = 50)\n",
        "  rv_D_sigma = pm.Normal('D_sigma', mu = 50, sigma = 25)\n",
        "  rv_D = pm.Normal('D', mu = rv_D_mu, sigma = rv_D_sigma, \n",
        "                   observed = np.concatenate(D))\n",
        "gv = pm.model_to_graphviz(pm_model)        "
      ],
      "execution_count": null,
      "outputs": []
    },
    {
      "cell_type": "markdown",
      "metadata": {
        "id": "1pAHCyLtX46u"
      },
      "source": [
        "Plot probabilistic relations:"
      ]
    },
    {
      "cell_type": "code",
      "metadata": {
        "id": "A-e62L_fAcgP"
      },
      "source": [
        "gv"
      ],
      "execution_count": null,
      "outputs": []
    },
    {
      "cell_type": "markdown",
      "metadata": {
        "id": "APvpNA7zYIEN"
      },
      "source": [
        "Run Hamiltonian Markov-Chain Monte-Carlo to sample the mean (mu) and std-dev (sigma) for the various distributions:"
      ]
    },
    {
      "cell_type": "code",
      "metadata": {
        "colab": {
          "background_save": true
        },
        "id": "ieDy3IYdAkoF"
      },
      "source": [
        "with pm_model:\n",
        "    trace = pm.sample(500, chains=2);"
      ],
      "execution_count": null,
      "outputs": []
    },
    {
      "cell_type": "code",
      "metadata": {
        "colab": {
          "background_save": true
        },
        "id": "Wp8XT51wauLx"
      },
      "source": [
        "#!pip install arviz\n",
        "import arviz as az\n",
        "with pm_model:\n",
        "    az.plot_trace(trace)"
      ],
      "execution_count": null,
      "outputs": []
    },
    {
      "cell_type": "code",
      "metadata": {
        "colab": {
          "background_save": true
        },
        "id": "QBgO4_UHNVB-"
      },
      "source": [
        "az.summary(trace)"
      ],
      "execution_count": null,
      "outputs": []
    },
    {
      "cell_type": "markdown",
      "metadata": {
        "id": "0pXvLs9XEjIT"
      },
      "source": [
        "# Part II - Course overview\n",
        "**אפשר לענות בעברית**\n",
        "\n",
        "\n",
        "\n",
        "1. List two different ways to represent a protein structure discussed in the course.\n",
        "A:\n",
        "These are two options we discussed:\n",
        "a)XYZ coordinates of N, Ca, C (9 parameters per amino acid)\n",
        "b)XYZ coordinate of Ca + orientation (6 parameters, angles and distances are fixed)\n",
        "\n",
        "2. Explain briefly, in your own words, the steps of MCMC algorithm learned in class for sampling protein conformations using the Metropolis-Hastings criterion.\n",
        "\n",
        "הצעדים של האלגוריתם הנ\"ל הם:\n",
        "1) מגרילים צעד לשינוי המבנה בהינתן המצב הקיים.\n",
        "2) מחשבים את ההסתברות לבצע את הצעד שהוגרל. ההסתברות הזו תלויה בהפרש האנרגיות בין המצבים,בהתסברות למעבר בין מצב א ל-ב ובין ב ל-א ובקבוע בולצמן.\n",
        "3)מחליטים אם לקבל או לדחות את הצעד שהוגרל בהתאם להסתברות שחשבנו בסעיך הקודם\n",
        "4) חוזרים על האלגוריתם הנל מספר צעדים שנקבע מראש עד לקבלת קונפורמציה מינמלית מספקת.\n",
        "\n",
        "3. For each of the following neural networks layers, explain what it does and what we use it for?\n",
        "\n",
        "  a. 1D convolutional layer\n",
        "  A: Creates a kernal that convolved over one dimantion of the input layer and produced a tensor output. This increases the receptive and therefor enables to capture more abstact fetures.\n",
        "\n",
        "  b. Dropout layer\n",
        "  A: Droping a small amount of nodes during training. This helps avoid overfitting.\n",
        "\n",
        "  c. Activation layer (Relu, Sigmoid…)\n",
        "  A: A function that selects which node to be active (included in the calculation) and which won't. Using an activation layer adds a non layner transformation to the net and by that enables it to make more complex calculations.\n",
        "\n",
        "4. In Gradient Descent algorithms and Neural networks:\n",
        "\n",
        "  a. what does the ‘step size’ parameter stand for? (also called learning rate). \n",
        "  גודל הצעד מייצג את השינוי שאנחנו עושים במורד הגרדיאנט במטרה לחפש את המינימום הגלובאלי.\n",
        "\n",
        "  b. What happens when it is too small?  \n",
        "  אם גודל הצעד קטן מדי אנחנו עלולים להיכלא לבעיות של זמן ריצה שכן כל איטרציה לא תשנה הרבה . כמו כן, נוכל בסבירות גבוהה יותר להיתקע במינימום לוקאלי.\n",
        "  c. What happens when it is too large?\n",
        "  אם גודל הצעד גדול מדי אז אנחנו עלולים לפספס את המינימום הגולבאלי הנדרש. אמנם זמן הריצה יהיה קצר יותר אבל זה יהיה על חשבון איכות הפתרון המוחזר.\n",
        "\n",
        "5. Write down the input and the output of the following methods of structural bioinformatics, as described in the course (1-2 short sentences each):\n",
        "\n",
        "  a. Proteins structural alignment\n",
        "  Input:A pair of sequences s and t of similar length\n",
        "  Output: The alignment of the first protein on top of the other and the match score btw them (for example RMSD)\n",
        "\n",
        "  b. ab initio folding \n",
        "  Input: \n",
        "  1) protein sequence s\n",
        "  2) Energy (scoring) function\n",
        "  Output: Configuration that minimizes E(c)\n",
        "\n",
        "  c. Comparative modeling\n",
        "  Inputs:\n",
        "  1) previously solved structures (=templates)\n",
        "  2) physical principles\n",
        "3) statistics\n",
        "\n",
        "Output:\n",
        "Model structure is assessed against known structure\n",
        "\n",
        "  d. K-means clustering\n",
        "  Input:\n",
        "  1) K - מספר הקלאסטרים הרצוי\n",
        "  2) אוסף נקודות אותן רוצים למיין (לדוגמה סקורס של התאמות בין מבנים של חלבונים)\n",
        "  Output:\n",
        "  הקלאסטרים שנוצרו מסט הנקודות שהתקבל\n",
        "\n",
        "\n",
        "  e. Protein-protein docking \n",
        "  Input:\n",
        "  A pair of molecules (“receptor” and “ligand” represented by their 3D structures\n",
        "  Output:\n",
        "Decide whether the molecules will form a complex (interact/bind).\n",
        "Determine the binding affinity.\n",
        "Predict the 3D structure of the complex.\n",
        "Deduce function.\n",
        "\n",
        "  f. Molecular dynamics \n",
        "  Input:\n",
        "  1) parts\n",
        "  2 interactions\n",
        "  3)dynamics\n",
        "  Output:\n",
        "The positions of the parts according to the given interactions and dynamics.\n",
        "\n",
        "  g. Motion planning \n",
        "  Input: מבנה חלבון\n",
        "  Output: אנליזה של חופש התנועה במבנה החלבון\n",
        "\n",
        "  h. Protein folding using deep learning (RaptorX/trRosetta/AlphaFold)\n",
        "  Input:\n",
        "  The amino acid sequence or a multiple sequence alignment (MSA) of the query protein.\n",
        "  Output: \n",
        "  1) After running the given sequence trough the network we are given the 3D structure models based direct energy mimization.\n",
        "  2) Model quality estimation\n"
      ]
    }
  ]
}