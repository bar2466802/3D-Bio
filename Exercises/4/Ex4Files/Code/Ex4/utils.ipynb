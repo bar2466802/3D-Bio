{
 "nbformat": 4,
 "nbformat_minor": 0,
 "metadata": {
  "colab": {
   "name": "utils.ipynb",
   "provenance": [
    {
     "file_id": "14MEmGGblX1MERq08Q06tQP_pERgEGNl3",
     "timestamp": 1618651974479
    }
   ],
   "collapsed_sections": [],
   "mount_file_id": "1u73oS-4nBmiiQfa_R3aF43bZHCr9FRwW",
   "authorship_tag": "ABX9TyPE+tpOhWmp+kcpP1ziFC9T"
  },
  "kernelspec": {
   "name": "python3",
   "language": "python",
   "display_name": "Python 3"
  },
  "language_info": {
   "name": "python"
  }
 },
 "cells": [
  {
   "cell_type": "code",
   "metadata": {
    "id": "Hec1cryOeET1"
   },
   "source": [
    "# delete this cell if working on Pycharm\n",
    "!pip install Bio"
   ],
   "execution_count": null,
   "outputs": []
  },
  {
   "cell_type": "code",
   "metadata": {
    "id": "mm2sUeKhcGEv"
   },
   "source": [
    "from Bio.PDB import *\n",
    "import numpy as np\n",
    "import re\n",
    "import os\n",
    "import pickle\n",
    "from tqdm import tqdm"
   ],
   "execution_count": null,
   "outputs": []
  },
  {
   "cell_type": "code",
   "metadata": {
    "id": "o9k0WEa0cNO0"
   },
   "source": [
    "W_RPattern = re.compile(r'W\\wR')\n",
    "Y_CPattern = re.compile(r'(Y\\wC)|(YY\\w)')\n",
    "WG_GPattern = re.compile(r'(WG\\wG)|(W\\wQG)|(\\wGQG)|(\\w\\wQG)|(WG\\w\\w)|(W\\w\\wG)|(W\\wQ\\w)')\n",
    "CDR_MAX_LENGTH = 32\n",
    "AA_DICT = {\"A\": 0, \"C\": 1, \"D\": 2, \"E\": 3, \"F\": 4, \"G\": 5, \"H\": 6, \"I\": 7, \"K\": 8, \"L\": 9, \"M\": 10, \"N\": 11,\n",
    "           \"P\": 12, \"Q\": 13, \"R\": 14, \"S\": 15, \"T\": 16, \"W\": 17, \"Y\": 18, \"V\": 19, \"-\": 20, \"X\": 20}\n"
   ],
   "execution_count": null,
   "outputs": []
  },
  {
   "cell_type": "code",
   "metadata": {
    "id": "-4L0Xut9cZ2K"
   },
   "source": [
    "def find_cdr3(sequence):\n",
    "    \"\"\"\n",
    "    find the start and end indexes of the CDR3 in the given nanobody sequence\n",
    "    :param sequence: String\n",
    "    :return: [start, end]  (ints)\n",
    "    \"\"\"\n",
    "    left_area = sequence[90:105]\n",
    "    la_i = -1\n",
    "    left_cdr = -1\n",
    "    Y_C = Y_CPattern.search(left_area)\n",
    "    if Y_C != None:\n",
    "        # if we found 'YXR', find its index\n",
    "        la_i = Y_C.start(0)+2\n",
    "    else:\n",
    "        la_i = left_area.find('C')  # didn't find 'YXC', look for 'C'\n",
    "\n",
    "    if la_i >= 0:\n",
    "        left_cdr = la_i + 90 + 3\n",
    "    n = len(sequence) - 1\n",
    "    n1 = n - 14\n",
    "    subtract_amount = 1\n",
    "    right_area = sequence[n1:n - 4]\n",
    "    ra_i = -1\n",
    "    right_cdr = -1\n",
    "    WG_G = WG_GPattern.search(right_area)\n",
    "    if WG_G != None:\n",
    "        ra_i = WG_G.start(0)\n",
    "\n",
    "    if ra_i >= 0:\n",
    "        right_cdr = ra_i + n1 - subtract_amount + 1  # CDR3 ends at 'W' - 1 (or 'Q' - 3) (add n-14 to put it back in the full sequence)\n",
    "    # check\n",
    "    if left_cdr == -1 and right_cdr == -1:\n",
    "        left_cdr = n - 21\n",
    "        right_cdr = n - 10\n",
    "    elif left_cdr == -1:\n",
    "        left_cdr = right_cdr - 11\n",
    "    elif right_cdr == -1:\n",
    "        if left_cdr + 11 <= n:\n",
    "            right_cdr = left_cdr + 11\n",
    "        else:\n",
    "            right_cdr = n\n",
    "    if left_cdr > right_cdr:\n",
    "        left_cdr = n - 1\n",
    "        right_cdr = n\n",
    "    return [left_cdr,right_cdr]\n",
    "\n"
   ],
   "execution_count": null,
   "outputs": []
  },
  {
   "cell_type": "code",
   "metadata": {
    "id": "qNxeyEawcZ9y"
   },
   "source": [
    "def get_seq_aa(chain):\n",
    "    \"\"\"\n",
    "    returns the sequence (String) and a list of all the aa residue objects of the given nanobody chain.\n",
    "    :param chain: BioPython chain object\n",
    "    :return: sequence, [aa objects]\n",
    "    \"\"\"\n",
    "    aa_residues = []\n",
    "    seq = \"\"\n",
    "\n",
    "    for residue in chain.get_residues():\n",
    "        aa = residue.get_resname()\n",
    "        if not is_aa(aa) or not residue.has_id('CA'):\n",
    "            continue\n",
    "        elif aa == \"UNK\":\n",
    "            seq += \"X\"\n",
    "            aa_residues.append(residue)\n",
    "        else:\n",
    "            seq += Polypeptide.three_to_one(residue.get_resname())\n",
    "            aa_residues.append(residue)\n",
    "\n",
    "    return seq, aa_residues"
   ],
   "execution_count": null,
   "outputs": []
  },
  {
   "cell_type": "code",
   "metadata": {
    "id": "DGvLkyBscaFH"
   },
   "source": [
    "def add_padding(matrix):\n",
    "    \"\"\"\n",
    "    adds zero padding to a given matrix (even padding in each direction). matrix has to be of size n*n*m where\n",
    "    n <= CDR_MAX_LENGTH\n",
    "    :param matrix: numpy array to pad\n",
    "    :return: the padded numpy array, size 32* 32*m\n",
    "    \"\"\"\n",
    "    smaller_pad = (CDR_MAX_LENGTH - len(matrix)) // 2\n",
    "    bigger_pad = CDR_MAX_LENGTH - len(matrix) - smaller_pad\n",
    "\n",
    "    pad_x_y = (smaller_pad, bigger_pad)\n",
    "    pad_z = (0,0)\n",
    "\n",
    "    return np.pad(matrix, (pad_x_y, pad_x_y, pad_z))"
   ],
   "execution_count": null,
   "outputs": []
  },
  {
   "cell_type": "code",
   "metadata": {
    "id": "z7W-cUeAcaKA"
   },
   "source": [
    "def remove_padding(matrix, cdr_length):\n",
    "    \"\"\"\n",
    "    removes the zero padding added to a numpy array using add_padding(), cdr_length is the size of the matrix before\n",
    "    calling add_padding().\n",
    "    :param matrix: numpy array of size (CDR_MAX_LENGTH * CDR_MAX_LENGTH * m)\n",
    "    :param cdr_length: the original size of the matrix (the cdr3 length), int\n",
    "    :return: a numpy array of size (cdr_length * cdr_length * m)\n",
    "    \"\"\"\n",
    "    pad = (CDR_MAX_LENGTH - (cdr_length)) // 2\n",
    "    return matrix[pad:pad + cdr_length, pad:pad + cdr_length]\n"
   ],
   "execution_count": null,
   "outputs": []
  },
  {
   "cell_type": "code",
   "metadata": {
    "id": "lQ3Ybs5PcaMl"
   },
   "source": [
    "def get_dist(residues):\n",
    "    \"\"\"\n",
    "    calculates all the pairwise distances of the aa residues in the given residues list.\n",
    "    divides all the distances by a factor of 10.\n",
    "    :param residues: list of aa residue object\n",
    "    :return: numpy array of size (len(residues) * len(residues) * 1)\n",
    "    \"\"\"\n",
    "    mat_size = len(residues)\n",
    "    dist = np.zeros((mat_size, mat_size))\n",
    "\n",
    "    for i in range(mat_size):\n",
    "        for j in range(mat_size):\n",
    "            if i == j:\n",
    "                continue\n",
    "            c1 = 'CB'\n",
    "            c2 = 'CB'\n",
    "            if 'CB' not in residues[i]:  # GLY\n",
    "                c1 = 'CA'\n",
    "            if 'CB' not in residues[j]:  # GLY\n",
    "                c2 = 'CA'\n",
    "            dist[i][j] = (residues[i][c1] - residues[j][c2])\n",
    "\n",
    "    dist = dist / 10\n",
    "    return dist.reshape((mat_size, mat_size, 1))\n"
   ],
   "execution_count": null,
   "outputs": []
  },
  {
   "cell_type": "code",
   "metadata": {
    "id": "3WE-xupQcaO5"
   },
   "source": [
    "def get_theta(residues):\n",
    "    \"\"\"\n",
    "    calculates all the pairwise theta angles of the aa residues in the given residues list.\n",
    "    returns the pairwise angle in their (sin, cos) representation.\n",
    "    :param residues: list of aa residue object\n",
    "    :return: numpy array of size (len(residues) * len(residues) * 2)\n",
    "    \"\"\"\n",
    "\n",
    "    mat_size = len(residues)\n",
    "    cos_theta = np.zeros((mat_size, mat_size))\n",
    "    sin_theta = np.zeros((mat_size, mat_size))\n",
    "\n",
    "    for i in range(len(residues)):\n",
    "        for j in range(len(residues)):\n",
    "            if i == j:\n",
    "                continue\n",
    "            if not residues[i].has_id('CB') or not residues[j].has_id('CB'):  # GLY OR UNK OR MISSING CB\n",
    "                continue\n",
    "\n",
    "            angle = calc_dihedral(residues[i][\"N\"].get_vector(), residues[i][\"CA\"].get_vector(),\n",
    "                                  residues[i][\"CB\"].get_vector(), residues[j][\"CB\"].get_vector())\n",
    "            cos_theta[i][j] = np.cos(angle)\n",
    "            sin_theta[i][j] = np.sin(angle)\n",
    "\n",
    "    return np.dstack([sin_theta, cos_theta])"
   ],
   "execution_count": null,
   "outputs": []
  },
  {
   "cell_type": "code",
   "metadata": {
    "id": "tuobzL0QcghT"
   },
   "source": [
    "def get_phi(residues):\n",
    "    \"\"\"\n",
    "    calculates all the pairwise phi angles of the aa residues in the given residues list.\n",
    "    returns the pairwise angle in their (sin, cos) representation.\n",
    "    :param residues: list of aa residue object\n",
    "    :return: numpy array of size (len(residues) * len(residues) * 2)\n",
    "    \"\"\"\n",
    "    mat_size = len(residues)\n",
    "    cos_phi = np.zeros((mat_size, mat_size))\n",
    "    sin_phi = np.zeros((mat_size, mat_size))\n",
    "\n",
    "    for i in range(len(residues)):\n",
    "        for j in range(len(residues)):\n",
    "            if i == j:\n",
    "                continue\n",
    "            if not residues[i].has_id('CB') or not residues[j].has_id('CB'):  # GLY OR UNK OR MISSING CB\n",
    "                continue\n",
    "            angle = calc_angle(residues[i][\"CA\"].get_vector(),\n",
    "                               residues[i][\"CB\"].get_vector(),\n",
    "                               residues[j][\"CB\"].get_vector())\n",
    "            cos_phi[i][j] = np.cos(angle)\n",
    "            sin_phi[i][j] = np.sin(angle)\n",
    "\n",
    "    return np.dstack([sin_phi, cos_phi])"
   ],
   "execution_count": null,
   "outputs": []
  },
  {
   "cell_type": "code",
   "metadata": {
    "id": "uYq6qY7rcgj2"
   },
   "source": [
    "def get_omega(residues):\n",
    "    \"\"\"\n",
    "    calculates all the pairwise omega angles of the aa residues in the given residues list.\n",
    "    returns the pairwise angle in their (sin, cos) representation.\n",
    "    :param residues: list of aa residue object\n",
    "    :return: numpy array of size (len(residues) * len(residues) * 2)\n",
    "    \"\"\"\n",
    "\n",
    "    mat_size = len(residues)\n",
    "    cos_theta = np.zeros((mat_size, mat_size))\n",
    "    sin_theta = np.zeros((mat_size, mat_size))\n",
    "\n",
    "    for i in range(len(residues)):\n",
    "        for j in range(len(residues)):\n",
    "            if i == j:\n",
    "                continue\n",
    "            if not residues[i].has_id('CB') or not residues[j].has_id('CB'):  # GLY OR UNK OR MISSING CB\n",
    "                continue\n",
    "\n",
    "            angle = calc_dihedral(residues[i][\"CA\"].get_vector(), residues[i][\"CB\"].get_vector(),\n",
    "                                  residues[j][\"CB\"].get_vector(), residues[j][\"CA\"].get_vector())\n",
    "            cos_theta[i][j] = np.cos(angle)\n",
    "            sin_theta[i][j] = np.sin(angle)\n",
    "\n",
    "    return np.dstack([sin_theta, cos_theta])"
   ],
   "execution_count": null,
   "outputs": []
  },
  {
   "cell_type": "code",
   "metadata": {
    "id": "fNh1JDxtcgnF"
   },
   "source": [
    "def generate_input(pdb_file):\n",
    "    \"\"\"\n",
    "    receives a pdb file and returns its CDR3 sequence in a one-hot encoding matrix (each row is an aa in the sequence, and\n",
    "    each column represents a different aa out of the 20 aa + 1 special column).\n",
    "    :param pdb_file: path to a pdb file (nanobody, heavy chain has id 'H')\n",
    "    :return: numpy array of size (CDR_MAX_LENGTH * 21)\n",
    "    \"\"\"\n",
    "    # load model\n",
    "    model = PDBParser().get_structure(pdb_file, pdb_file)[0][\"H\"]\n",
    "\n",
    "    # get seq and aa residues\n",
    "    seq, aa_residues = get_seq_aa(model)\n",
    "\n",
    "    # find cdr3 start and end\n",
    "    [cdr_start, cdr_end] = find_cdr3(seq)\n",
    "    cdr_len = (cdr_end + 1 - cdr_start)\n",
    "\n",
    "    cdr_up_pad = (CDR_MAX_LENGTH - cdr_len) // 2\n",
    "    cdr_down_pad = CDR_MAX_LENGTH - cdr_up_pad - cdr_len\n",
    "\n",
    "    # pad the sequence with '-'\n",
    "    seq_cdr = cdr_up_pad * \"-\" + seq[cdr_start:cdr_end + 1] + cdr_down_pad * \"-\"\n",
    "\n",
    "    # turn in to one-hot encoding matrix\n",
    "    cdr_matrix = np.zeros((CDR_MAX_LENGTH, 21))\n",
    "    for i in range(CDR_MAX_LENGTH):\n",
    "        cdr_matrix[i][AA_DICT[seq_cdr[i]]] = 1\n",
    "\n",
    "    return cdr_matrix"
   ],
   "execution_count": null,
   "outputs": []
  },
  {
   "cell_type": "code",
   "metadata": {
    "id": "b5G7dbbccolV"
   },
   "source": [
    "def generate_label(pdb_file):\n",
    "    \"\"\"\n",
    "    receives a pdb file and returns its pairwise distances and pairwise angles (omega, theta, phi).\n",
    "    :param pdb_file: path to a pdb file (nanobody, heavy chain has id 'H')\n",
    "    :return: 4 numpy arrays, the first one with size (CDR_MAX_LENGTH * CDR_MAX_LENGTH * 1) and the other three with\n",
    "    size (CDR_MAX_LENGTH * CDR_MAX_LENGTH * 2).\n",
    "    \"\"\"\n",
    "    # load model\n",
    "    model = PDBParser().get_structure(pdb_file, pdb_file)[0][\"H\"]\n",
    "\n",
    "    # get seq and aa residues\n",
    "    seq, aa_residues = get_seq_aa(model)\n",
    "\n",
    "    # find cdr3 start and end\n",
    "    [cdr_start, cdr_end] = find_cdr3(seq)\n",
    "\n",
    "    # get the cdr3 residues\n",
    "    aa_residues = aa_residues[cdr_start:cdr_end + 1]\n",
    "\n",
    "    # get angles and distance matrices\n",
    "    theta = get_theta(aa_residues)\n",
    "    dist = get_dist(aa_residues)\n",
    "    phi = get_phi(aa_residues)\n",
    "    omega = get_omega(aa_residues)\n",
    "\n",
    "\n",
    "    return add_padding(dist), add_padding(omega), add_padding(theta), add_padding(phi)\n"
   ],
   "execution_count": null,
   "outputs": []
  },
  {
   "cell_type": "code",
   "metadata": {
    "id": "f5Gxoyt_cowc"
   },
   "source": [
    "if __name__ == '__main__':\n",
    "    \n",
    "   #  you can make all the data for the network in this section. use picke dump to save all the 5 matrices.\n",
    "   # this way you won't have to generate them each time you train a newtork.\n",
    "   # you can save the matrices to your drive and load them in your google colab file later.\n",
    "\n",
    "\n",
    "    input_matrix = []\n",
    "    dist_matrix = []\n",
    "    omega_matrix = []\n",
    "    theta_matrix = []\n",
    "    phi_matrix = []\n",
    "\n",
    "    data_path = \"/Ex4_data\"  # TODO: change path if needed\n",
    "\n",
    "    \n",
    "    for pdb in tqdm(os.listdir(data_path)):\n",
    "        dist, omega, theta, phi = generate_label(os.path.join(data_path, pdb))\n",
    "\n",
    "        input_matrix.append(generate_input(os.path.join(data_path, pdb)))\n",
    "        dist_matrix.append(dist)\n",
    "        omega_matrix.append(omega)\n",
    "        theta_matrix.append(theta)\n",
    "        phi_matrix.append(phi)\n",
    "\n",
    "    save_path = data_path + \"/Ex4Out\"  # TODO: change path if needed\n",
    "\n",
    "    pickle.dump(np.array(dist_matrix), open(os.path.join(save_path , \"train_dist.pkl\"), \"wb\"))\n",
    "    pickle.dump(np.array(omega_matrix), open(os.path.join(save_path , \"train_omega.pkl\"), \"wb\"))\n",
    "    pickle.dump(np.array(theta_matrix), open(os.path.join(save_path , \"train_theta.pkl\"), \"wb\"))\n",
    "    pickle.dump(np.array(phi_matrix), open(os.path.join(save_path , \"train_phi.pkl\"), \"wb\"))\n",
    "\n",
    "\n",
    "    pickle.dump(np.array(input_matrix), open(os.path.join(save_path , \"train_input.pkl\"), \"wb\"))\n",
    "\n",
    "    print(\"Number of samples: {}\".format(len(input_matrix)))\n",
    "\n"
   ],
   "execution_count": 1,
   "outputs": [
    {
     "ename": "NameError",
     "evalue": "name 'tqdm' is not defined",
     "output_type": "error",
     "traceback": [
      "\u001B[1;31m---------------------------------------------------------------------------\u001B[0m",
      "\u001B[1;31mNameError\u001B[0m                                 Traceback (most recent call last)",
      "\u001B[1;32m<ipython-input-1-b9e370ee2670>\u001B[0m in \u001B[0;36m<module>\u001B[1;34m\u001B[0m\n\u001B[0;32m     16\u001B[0m \u001B[1;33m\u001B[0m\u001B[0m\n\u001B[0;32m     17\u001B[0m \u001B[1;33m\u001B[0m\u001B[0m\n\u001B[1;32m---> 18\u001B[1;33m     \u001B[1;32mfor\u001B[0m \u001B[0mpdb\u001B[0m \u001B[1;32min\u001B[0m \u001B[0mtqdm\u001B[0m\u001B[1;33m(\u001B[0m\u001B[0mos\u001B[0m\u001B[1;33m.\u001B[0m\u001B[0mlistdir\u001B[0m\u001B[1;33m(\u001B[0m\u001B[0mdata_path\u001B[0m\u001B[1;33m)\u001B[0m\u001B[1;33m)\u001B[0m\u001B[1;33m:\u001B[0m\u001B[1;33m\u001B[0m\u001B[1;33m\u001B[0m\u001B[0m\n\u001B[0m\u001B[0;32m     19\u001B[0m         \u001B[0mdist\u001B[0m\u001B[1;33m,\u001B[0m \u001B[0momega\u001B[0m\u001B[1;33m,\u001B[0m \u001B[0mtheta\u001B[0m\u001B[1;33m,\u001B[0m \u001B[0mphi\u001B[0m \u001B[1;33m=\u001B[0m \u001B[0mgenerate_label\u001B[0m\u001B[1;33m(\u001B[0m\u001B[0mos\u001B[0m\u001B[1;33m.\u001B[0m\u001B[0mpath\u001B[0m\u001B[1;33m.\u001B[0m\u001B[0mjoin\u001B[0m\u001B[1;33m(\u001B[0m\u001B[0mdata_path\u001B[0m\u001B[1;33m,\u001B[0m \u001B[0mpdb\u001B[0m\u001B[1;33m)\u001B[0m\u001B[1;33m)\u001B[0m\u001B[1;33m\u001B[0m\u001B[1;33m\u001B[0m\u001B[0m\n\u001B[0;32m     20\u001B[0m \u001B[1;33m\u001B[0m\u001B[0m\n",
      "\u001B[1;31mNameError\u001B[0m: name 'tqdm' is not defined"
     ]
    }
   ]
  }
 ]
}